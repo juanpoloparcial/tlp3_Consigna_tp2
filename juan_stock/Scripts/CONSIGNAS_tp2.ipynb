{
 "cells": [
  {
   "cell_type": "markdown",
   "metadata": {},
   "source": [
    "# Criterios de evaluación.\n",
    "\n",
    "* Se deben utilizar nombres de variables descriptivos y claros.\n",
    "* Cada ejercicio debe ser realizado utilizando **FUNCIONES**, NO solo codigo suelto.\n",
    "* Comentarios claros y concisos que expliquen el propósito de cada sección del código.\n",
    "* Entrega en tiempo y forma.\n",
    "* Todo el código desarrollado debe ser subido a un repositorio en GitHub.\n",
    "\n",
    "\n",
    "**Aclaración: Para resolver las actividades se debe incertar casillas de codigo entre cada actividad del cuaderno de Jupyter**"
   ]
  },
  {
   "cell_type": "markdown",
   "metadata": {},
   "source": [
    "### 1. **Bucles**\n",
    "\n",
    "   - **Actividad 1.1**: Escribir un programa que muestre el print de todo lo que el usuario introduzca hasta que el usuario escriba “salir” que terminará.\n",
    "   \n",
    "   - **Actividad 1.2**: Escribir un programa que pida al usuario un número entero y muestre por pantalla un triángulo rectángulo como el de más abajo con la cantidad de escalones indicados previamente (los numeros dentro del triangulo deben ser enteros aleatorios del 0 al 9).\n",
    "* 1\n",
    "* 3 1\n",
    "* 5 3 1\n",
    "* 7 5 3 1\n",
    "* 9 7 5 3 1"
   ]
  },
  {
   "cell_type": "code",
   "execution_count": null,
   "metadata": {},
   "outputs": [
    {
     "name": "stdout",
     "output_type": "stream",
     "text": [
      "Palabras ingresadas:  hola\n",
      "Palabras ingresadas:  mundo\n",
      "Palabras ingresadas:  soy\n",
      "Palabras ingresadas:  tu \n",
      "Palabras ingresadas:  padre\n",
      "El programa finalizó!\n"
     ]
    }
   ],
   "source": [
    "\n",
    "# todo: Resolución\n",
    "while True:\n",
    "    palabra = input(\"Escriba algo -('SALIR' para finalizar): \")\n",
    "    if palabra.upper() == \"SALIR\":\n",
    "        print(\"El programa finalizó!\")\n",
    "        break\n",
    "    print(\"Palabras ingresadas: \", palabra)\n",
    "\n",
    "# ! 1"
   ]
  },
  {
   "cell_type": "code",
   "execution_count": null,
   "metadata": {},
   "outputs": [
    {
     "name": "stdout",
     "output_type": "stream",
     "text": [
      "1 \n",
      "1 2 \n",
      "1 0 9 \n",
      "7 9 8 4 \n"
     ]
    }
   ],
   "source": [
    "\n",
    "# todo: resolución\n",
    "import random\n",
    "\n",
    "escalones = int(input(\"Ingrese la cantidad de escalones que desee: \"))\n",
    "## El primer for nos ayuda a controlar la cantidad de filas que tendrá la piramide\n",
    "for i in range (1, escalones + 1):\n",
    "    ## El segundo For imprime los numeros de cada fila\n",
    "    for j in range(i):\n",
    "        num = random.randint(0,9)\n",
    "        print (num, end=\" \") #con el end Evitamos que siga imprimiendo filas una abajo de la otra\n",
    "    print()\n",
    "# ! 2\n"
   ]
  },
  {
   "cell_type": "markdown",
   "metadata": {},
   "source": [
    "### 2. **Listas y Tuplas**\n",
    "\n",
    "   - **Actividad 1**: Escribir un programa que pida al usuario una frase y muestre por pantalla el número de veces que contiene cada vocal y la cantidad de espacios en blanco.\n",
    "\n",
    "   - **Actividad 2**: Escribir un programa que cree una matriz (con numeros aleatorios del 1 al 100) usando las dimensiones de X e Y que el usuario deberia ingresar por consola, luego crea una tupla con la matriz transpuesta y por ultimo las muestra ambas por consola .\n",
    "\n",
    "   - **Actividad 3**: Escribir un programa que almacene en una lista los siguientes precios, 50, 75, 46, 22, 80, 65, 8, y muestre por pantalla el menor y el mayor de los precios"
   ]
  },
  {
   "cell_type": "code",
   "execution_count": 7,
   "metadata": {},
   "outputs": [
    {
     "name": "stdout",
     "output_type": "stream",
     "text": [
      "- Contador de vocales y Espacios - \n",
      "La frase es: \n",
      " hay un espacio por delante ?\n",
      "Cantidad de cada vocal: \n",
      "a: 3\n",
      "e: 3\n",
      "i: 1\n",
      "o: 2\n",
      "u: 1\n",
      "La cantidad de Espacios en blanco es de:  5\n"
     ]
    }
   ],
   "source": [
    "\n",
    "# todo: Resolución\n",
    "print(\"- Contador de vocales y Espacios - \")\n",
    "\n",
    "frase = input(\"Ingrese una frase: \"'\\n')\n",
    "#Nos aseguramos que la frase sea solo en minuscula para no tener problema con las mayusculas.\n",
    "frase_min = frase.lower()\n",
    "\n",
    "#Definimos que letras(vocales) vamos a contar \n",
    "vocales = \"aeiou\"\n",
    "print(\"La frase es: \\n\", frase)\n",
    "print(\"Cantidad de cada vocal: \")# Se muestra la cantidad de cada vocal.\n",
    "for vocal in vocales:\n",
    "    cantidad = frase_min.count(vocal)\n",
    "    print(f\"{vocal}: {cantidad}\")\n",
    "    \n",
    "#Hacemos lo mismo pero para los espacios en blanco\n",
    "espacios = frase.count(\" \")\n",
    "print(f\"La cantidad de Espacios en blanco es de: \", espacios)\n",
    "# ! 1"
   ]
  },
  {
   "cell_type": "code",
   "execution_count": null,
   "metadata": {},
   "outputs": [],
   "source": [
    "\n",
    "# todo: Resolución\n",
    "        # xxxxxxxxxxxxxx\n",
    "# ! 2"
   ]
  },
  {
   "cell_type": "code",
   "execution_count": null,
   "metadata": {},
   "outputs": [
    {
     "name": "stdout",
     "output_type": "stream",
     "text": [
      " - PRECIO MAYOR Y MENOR -\n",
      "\n",
      " El precio Menor es:  8 \n",
      " El precio Mayor es:  80\n"
     ]
    }
   ],
   "source": [
    "\n",
    "# todo: Resolución\n",
    "print(\" - PRECIO MAYOR Y MENOR -\\n\")\n",
    "\n",
    "precios = [50,75,46,22,80,65,8]\n",
    "\n",
    "#con estas funciones guadaremos el menor [min()] y mayor[max()] de los precios en la lista.\n",
    "precio_menor = min(precios)\n",
    "precio_mayor = max (precios)\n",
    "\n",
    "print(\" El precio Menor es: \", precio_menor,'\\n',\"El precio Mayor es: \", precio_mayor)\n",
    "# ! 3"
   ]
  },
  {
   "cell_type": "markdown",
   "metadata": {},
   "source": [
    "### 3. **Diccionarios**\n",
    "\n",
    "   - **Actividad 1**: Escribir un programa que cree un diccionario simulando una cesta de la compra. El programa debe preguntar el artículo y su precio y añadir el par al diccionario, hasta que el usuario decida terminar. Después se debe mostrar por pantalla la lista de la compra y el coste total, con el siguiente formato.\n",
    "\n",
    "   | arts  |precio |\n",
    "   |-------|-------|\n",
    "   |art 1  |1      |\n",
    "   |art 2  |2      |\n",
    "   |art 3  |3      |\n",
    "   |total  |6      |\n",
    "\n",
    "   - **Actividad 2**: Escribir un programa que cree un diccionario de traducción español-inglés. El usuario introducirá las palabras en español e inglés separadas por dos puntos, y cada par <palabra> : <traducción> separados por comas (es decir, solo se debe usar **UNA VEZ** la función input para la carga de palabras). El programa debe crear un diccionario con las palabras y sus traducciones. Después pedirá una frase en español y utilizará el diccionario para traducirla palabra a palabra. Si una palabra no está en el diccionario debe dejarla sin traducir.\n",
    "\n",
    "   - **Actividad 3**: Escribir un programa que reciba una cadena de caracteres y devuelva un diccionario con cada palabra que contiene y su frecuencia. Escribir otra función que reciba el diccionario generado con la función anterior y devuelva una tupla con la palabra más repetida y su frecuencia."
   ]
  },
  {
   "cell_type": "code",
   "execution_count": 2,
   "metadata": {},
   "outputs": [
    {
     "name": "stdout",
     "output_type": "stream",
     "text": [
      "\n",
      "| Artículo   | Precio |\n",
      "|------------|--------|\n",
      "| burguer    | 7800.00 |\n",
      "| pizzas     | 10500.00 |\n",
      "| Total      | 18300.00 |\n"
     ]
    }
   ],
   "source": [
    "\n",
    "# todo: Resolución\n",
    "# Creamos un diccionario\n",
    "# Este diccionario será nuestro carrito donde guardaremos los artículos.\n",
    "carrito = {}\n",
    "\n",
    "# Bucle para agregar artículos a nuestro carrito\n",
    "while True:\n",
    "    articulo = input(\"Ingrese el nombre del artículo (Ingrese 'fin' para terminar): \")\n",
    "\n",
    "    if articulo.lower() == 'fin':\n",
    "        break\n",
    "\n",
    "    # Validaremos el precio ingresado del artículo\n",
    "    while True:\n",
    "            #El precio sera float, ya que puede ser con centavos\n",
    "            precio = float(input(f\"Ingrese el precio de {articulo}: \"))\n",
    "            if precio > 0:\n",
    "                break\n",
    "            else:\n",
    "                print(\"Ingrese un precio válido.\")\n",
    "\n",
    "    # Guardar en el diccionario\n",
    "    carrito[articulo] = precio\n",
    "\n",
    "# Mostrar la tabla\n",
    "print(\"\\n| Artículo   | Precio |\")\n",
    "print(\"|------------|--------|\")\n",
    "\n",
    "total = 0\n",
    "for art, precio in carrito.items():\n",
    "    print(f\"| {art:<10} | {precio:<6.2f} |\")\n",
    "    total += precio\n",
    "\n",
    "print(f\"| {'Total':<10} | {total:<6.2f} |\")\n",
    "\n",
    "\n",
    "# ! 1"
   ]
  },
  {
   "cell_type": "code",
   "execution_count": 7,
   "metadata": {},
   "outputs": [
    {
     "name": "stdout",
     "output_type": "stream",
     "text": [
      "Frase ingresada: \n",
      " los perros son mejor que los gatos\n",
      "Frase traducida:\n",
      "los dogs are mejor que los cats\n"
     ]
    }
   ],
   "source": [
    "\n",
    "# todo: Resolución\n",
    "# 1. Solicitar las traducciones\n",
    "espanglis = input(\"Introduce las palabras para traducir ( palabra:traducción, separadas por comas): \\n Ejemplo 'perro:dog' \")\n",
    "\n",
    "# 2. Crear el diccionario\n",
    "diccionario = {}\n",
    "\n",
    "# Separar por comas para obtener cada par de la palabra original con su respectiva traducción\n",
    "pares = espanglis.split(',')\n",
    "\n",
    "for par in pares:\n",
    "    if ':' in par:\n",
    "        esp, eng = par.strip().split(':')\n",
    "        diccionario[esp.strip()] = eng.strip()\n",
    "\n",
    "# 3. Pedir una frase en español\n",
    "frase = input(\"Ingrese una frase en español: \")\n",
    "\n",
    "# 4. Traducir palabra por palabra con el diccionario creado anteriormente\n",
    "palabras = frase.split()\n",
    "frase_traducida = []\n",
    "\n",
    "for palabra in palabras:\n",
    "    # Agrega la traducción si existe, si no, deja la palabra tal cual\n",
    "    traduccion = diccionario.get(palabra, palabra)\n",
    "    frase_traducida.append(traduccion)\n",
    "\n",
    "# 5. Mostrar el resultado\n",
    "print(\"Frase ingresada: \\n\", frase)\n",
    "print(\"Frase traducida:\")\n",
    "print(\" \".join(frase_traducida))\n",
    "\n",
    "# ! 2"
   ]
  },
  {
   "cell_type": "code",
   "execution_count": 8,
   "metadata": {},
   "outputs": [
    {
     "name": "stdout",
     "output_type": "stream",
     "text": [
      "\n",
      "Frecuencia de repeticiones:\n",
      "hola: 2\n",
      "mundo,: 1\n",
      "gente,: 1\n",
      "que: 3\n",
      "hace: 1\n",
      "el: 2\n",
      "pueblo,: 1\n",
      "cara: 1\n",
      "esta: 1\n",
      "la: 1\n",
      "play,: 1\n",
      "salimos: 1\n",
      "finde: 1\n",
      "gente: 1\n",
      "\n",
      "La palabra que más se repite es 'gente' con 3 repeticiones.\n"
     ]
    }
   ],
   "source": [
    "\n",
    "# todo: Resolución\n",
    "def contar_palabras(texto):\n",
    "    # Convertimos todo el texto a minúsculas y lo separamos por palabras\n",
    "    palabras = texto.lower().split()\n",
    "    \n",
    "    # Creamos un diccionario vacío para contar las palabras\n",
    "    frecuencia = {}\n",
    "    \n",
    "    for palabra in palabras:\n",
    "        # Si la palabra ya está en el diccionario, sumamos 1\n",
    "        if palabra in frecuencia:\n",
    "            frecuencia[palabra] += 1\n",
    "        else:\n",
    "            # Si no estaba, la agregamos con valor 1\n",
    "            frecuencia[palabra] = 1  \n",
    "    \n",
    "    return frecuencia\n",
    "\n",
    "\n",
    "def palabra_mas_repetida(diccionario):\n",
    "    # Buscamos la palabra que se repita más veces. \n",
    "    palabra_max = max(diccionario, key=diccionario.get)\n",
    "    return (palabra_max, diccionario[palabra_max])\n",
    "\n",
    "\n",
    "# Se ejecuta el programa y pedimos que el usuario ingrese la frase que desee\n",
    "texto = input(\"Ingrese una frase: \")\n",
    "\n",
    "# Obtenemos el diccionario con las apariciones de cada palabra\n",
    "frecuencias = contar_palabras(texto)\n",
    "\n",
    "# Descubrimos cuales fueron las palabras más repetidas.\n",
    "palabra, repeticiones = palabra_mas_repetida(frecuencias)\n",
    "\n",
    "# Mostramos los resultados\n",
    "print(\"\\nFrecuencia de repeticiones:\")\n",
    "for palabra, cantidad in frecuencias.items():\n",
    "    print(f\"{palabra}: {cantidad}\")\n",
    "\n",
    "print(f\"\\nLa palabra que más se repite es '{palabra}' con {repeticiones} repeticiones.\")\n",
    "\n",
    "# ! 3"
   ]
  },
  {
   "cell_type": "markdown",
   "metadata": {},
   "source": [
    "### 4. **Funciones**\n",
    "\n",
    "- **Actividad 1**: Escribir una función que calcule el total de una factura tras aplicarle el IVA. La función debe recibir la cantidad sin IVA y el porcentaje de IVA a aplicar, y devolver el total de la factura. Si se invoca la función sin pasarle el porcentaje de IVA, deberá aplicar un 21%.\n",
    "\n",
    "- **Actividad 2**: Escribir una función que reciba un número entero positivo y devuelva su factorial.\n"
   ]
  },
  {
   "cell_type": "code",
   "execution_count": 1,
   "metadata": {},
   "outputs": [
    {
     "name": "stdout",
     "output_type": "stream",
     "text": [
      "847.0\n"
     ]
    }
   ],
   "source": [
    "\n",
    "# todo: Resolución\n",
    "def factura_con_iva(factura_sin_iva, iva=21):\n",
    "    total_iva = factura_sin_iva * (1 + iva / 100)\n",
    "    return total_iva\n",
    "print(factura_con_iva(700))\n",
    "# ! 1"
   ]
  },
  {
   "cell_type": "code",
   "execution_count": 2,
   "metadata": {},
   "outputs": [
    {
     "name": "stdout",
     "output_type": "stream",
     "text": [
      " - FACTORIAL DE UN NUMERO - \n",
      "\n",
      "El factorial de  6 es 720\n"
     ]
    }
   ],
   "source": [
    "\n",
    "# todo: Resolución\n",
    "print(\" - FACTORIAL DE UN NUMERO - \\n\")\n",
    "\n",
    "def factorial (n):\n",
    "    resultado = 1\n",
    "    for i in range( 2, n + 1):\n",
    "        resultado *= i\n",
    "    return resultado\n",
    "\n",
    "numero_fact = int(input(\"Ingrese un número entero positivo: \"))\n",
    "if numero_fact >= 0: \n",
    "    print(\"El factorial de \", numero_fact, \"es\", factorial(numero_fact))\n",
    "else:\n",
    "    print(\"Incorrecto, ingrese un número positivo.\")\n",
    "# ! 2"
   ]
  }
 ],
 "metadata": {
  "kernelspec": {
   "display_name": "juan_stock",
   "language": "python",
   "name": "python3"
  },
  "language_info": {
   "codemirror_mode": {
    "name": "ipython",
    "version": 3
   },
   "file_extension": ".py",
   "mimetype": "text/x-python",
   "name": "python",
   "nbconvert_exporter": "python",
   "pygments_lexer": "ipython3",
   "version": "3.12.9"
  }
 },
 "nbformat": 4,
 "nbformat_minor": 2
}
