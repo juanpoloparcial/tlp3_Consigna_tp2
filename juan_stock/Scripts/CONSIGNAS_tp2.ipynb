{
 "cells": [
  {
   "cell_type": "markdown",
   "metadata": {},
   "source": [
    "# Criterios de evaluación.\n",
    "\n",
    "* Se deben utilizar nombres de variables descriptivos y claros.\n",
    "* Cada ejercicio debe ser realizado utilizando **FUNCIONES**, NO solo codigo suelto.\n",
    "* Comentarios claros y concisos que expliquen el propósito de cada sección del código.\n",
    "* Entrega en tiempo y forma.\n",
    "* Todo el código desarrollado debe ser subido a un repositorio en GitHub.\n",
    "\n",
    "\n",
    "**Aclaración: Para resolver las actividades se debe incertar casillas de codigo entre cada actividad del cuaderno de Jupyter**"
   ]
  },
  {
   "cell_type": "markdown",
   "metadata": {},
   "source": [
    "### 1. **Bucles**\n",
    "\n",
    "   - **Actividad 1.1**: Escribir un programa que muestre el print de todo lo que el usuario introduzca hasta que el usuario escriba “salir” que terminará.\n",
    "   \n",
    "   - **Actividad 1.2**: Escribir un programa que pida al usuario un número entero y muestre por pantalla un triángulo rectángulo como el de más abajo con la cantidad de escalones indicados previamente (los numeros dentro del triangulo deben ser enteros aleatorios del 0 al 9).\n",
    "* 1\n",
    "* 3 1\n",
    "* 5 3 1\n",
    "* 7 5 3 1\n",
    "* 9 7 5 3 1"
   ]
  },
  {
   "cell_type": "code",
   "execution_count": null,
   "metadata": {},
   "outputs": [
    {
     "name": "stdout",
     "output_type": "stream",
     "text": [
      "Palabras ingresadas:  hola\n",
      "Palabras ingresadas:  mundo\n",
      "Palabras ingresadas:  soy\n",
      "Palabras ingresadas:  tu \n",
      "Palabras ingresadas:  padre\n",
      "El programa finalizó!\n"
     ]
    }
   ],
   "source": [
    "\n",
    "# todo: Resolución\n",
    "while True:\n",
    "    palabra = input(\"Escriba algo -('SALIR' para finalizar): \")\n",
    "    if palabra.upper() == \"SALIR\":\n",
    "        print(\"El programa finalizó!\")\n",
    "        break\n",
    "    print(\"Palabras ingresadas: \", palabra)\n",
    "\n",
    "# ! 1"
   ]
  },
  {
   "cell_type": "code",
   "execution_count": null,
   "metadata": {},
   "outputs": [
    {
     "name": "stdout",
     "output_type": "stream",
     "text": [
      "1 \n",
      "1 2 \n",
      "1 0 9 \n",
      "7 9 8 4 \n"
     ]
    }
   ],
   "source": [
    "\n",
    "# todo: resolución\n",
    "import random\n",
    "\n",
    "escalones = int(input(\"Ingrese la cantidad de escalones que desee: \"))\n",
    "## El primer for nos ayuda a controlar la cantidad de filas que tendrá la piramide\n",
    "for i in range (1, escalones + 1):\n",
    "    ## El segundo For imprime los numeros de cada fila\n",
    "    for j in range(i):\n",
    "        num = random.randint(0,9)\n",
    "        print (num, end=\" \") #con el end Evitamos que siga imprimiendo filas una abajo de la otra\n",
    "    print()\n",
    "# ! 2\n"
   ]
  },
  {
   "cell_type": "markdown",
   "metadata": {},
   "source": [
    "### 2. **Listas y Tuplas**\n",
    "\n",
    "   - **Actividad 1**: Escribir un programa que pida al usuario una frase y muestre por pantalla el número de veces que contiene cada vocal y la cantidad de espacios en blanco.\n",
    "\n",
    "   - **Actividad 2**: Escribir un programa que cree una matriz (con numeros aleatorios del 1 al 100) usando las dimensiones de X e Y que el usuario deberia ingresar por consola, luego crea una tupla con la matriz transpuesta y por ultimo las muestra ambas por consola .\n",
    "\n",
    "   - **Actividad 3**: Escribir un programa que almacene en una lista los siguientes precios, 50, 75, 46, 22, 80, 65, 8, y muestre por pantalla el menor y el mayor de los precios"
   ]
  },
  {
   "cell_type": "code",
   "execution_count": 7,
   "metadata": {},
   "outputs": [
    {
     "name": "stdout",
     "output_type": "stream",
     "text": [
      "- Contador de vocales y Espacios - \n",
      "La frase es: \n",
      " hay un espacio por delante ?\n",
      "Cantidad de cada vocal: \n",
      "a: 3\n",
      "e: 3\n",
      "i: 1\n",
      "o: 2\n",
      "u: 1\n",
      "La cantidad de Espacios en blanco es de:  5\n"
     ]
    }
   ],
   "source": [
    "\n",
    "# todo: Resolución\n",
    "print(\"- Contador de vocales y Espacios - \")\n",
    "\n",
    "frase = input(\"Ingrese una frase: \"'\\n')\n",
    "#Nos aseguramos que la frase sea solo en minuscula para no tener problema con las mayusculas.\n",
    "frase_min = frase.lower()\n",
    "\n",
    "#Definimos que letras(vocales) vamos a contar \n",
    "vocales = \"aeiou\"\n",
    "print(\"La frase es: \\n\", frase)\n",
    "print(\"Cantidad de cada vocal: \")# Se muestra la cantidad de cada vocal.\n",
    "for vocal in vocales:\n",
    "    cantidad = frase_min.count(vocal)\n",
    "    print(f\"{vocal}: {cantidad}\")\n",
    "    \n",
    "#Hacemos lo mismo pero para los espacios en blanco\n",
    "espacios = frase.count(\" \")\n",
    "print(f\"La cantidad de Espacios en blanco es de: \", espacios)\n",
    "# ! 1"
   ]
  },
  {
   "cell_type": "code",
   "execution_count": null,
   "metadata": {},
   "outputs": [],
   "source": [
    "\n",
    "# todo: Resolución\n",
    "\n",
    "# ! 2"
   ]
  },
  {
   "cell_type": "code",
   "execution_count": null,
   "metadata": {},
   "outputs": [
    {
     "name": "stdout",
     "output_type": "stream",
     "text": [
      " - PRECIO MAYOR Y MENOR -\n",
      "\n",
      " El precio Menor es:  8 \n",
      " El precio Mayor es:  80\n"
     ]
    }
   ],
   "source": [
    "\n",
    "# todo: Resolución\n",
    "print(\" - PRECIO MAYOR Y MENOR -\\n\")\n",
    "\n",
    "precios = [50,75,46,22,80,65,8]\n",
    "\n",
    "#con estas funciones guadaremos el menor [min()] y mayor[max()] de los precios en la lista.\n",
    "precio_menor = min(precios)\n",
    "precio_mayor = max (precios)\n",
    "\n",
    "print(\" El precio Menor es: \", precio_menor,'\\n',\"El precio Mayor es: \", precio_mayor)\n",
    "# ! 3"
   ]
  },
  {
   "cell_type": "markdown",
   "metadata": {},
   "source": [
    "### 3. **Diccionarios**\n",
    "\n",
    "   - **Actividad 1**: Escribir un programa que cree un diccionario simulando una cesta de la compra. El programa debe preguntar el artículo y su precio y añadir el par al diccionario, hasta que el usuario decida terminar. Después se debe mostrar por pantalla la lista de la compra y el coste total, con el siguiente formato.\n",
    "\n",
    "   | arts  |precio |\n",
    "   |-------|-------|\n",
    "   |art 1  |1      |\n",
    "   |art 2  |2      |\n",
    "   |art 3  |3      |\n",
    "   |total  |6      |\n",
    "\n",
    "   - **Actividad 2**: Escribir un programa que cree un diccionario de traducción español-inglés. El usuario introducirá las palabras en español e inglés separadas por dos puntos, y cada par <palabra> : <traducción> separados por comas (es decir, solo se debe usar **UNA VEZ** la función input para la carga de palabras). El programa debe crear un diccionario con las palabras y sus traducciones. Después pedirá una frase en español y utilizará el diccionario para traducirla palabra a palabra. Si una palabra no está en el diccionario debe dejarla sin traducir.\n",
    "\n",
    "   - **Actividad 3**: Escribir un programa que reciba una cadena de caracteres y devuelva un diccionario con cada palabra que contiene y su frecuencia. Escribir otra función que reciba el diccionario generado con la función anterior y devuelva una tupla con la palabra más repetida y su frecuencia."
   ]
  },
  {
   "cell_type": "code",
   "execution_count": null,
   "metadata": {},
   "outputs": [],
   "source": [
    "\n",
    "# todo: Resolución\n",
    "\n",
    "# ! 1"
   ]
  },
  {
   "cell_type": "code",
   "execution_count": null,
   "metadata": {},
   "outputs": [],
   "source": [
    "\n",
    "# todo: Resolución\n",
    "\n",
    "# ! 2"
   ]
  },
  {
   "cell_type": "code",
   "execution_count": null,
   "metadata": {},
   "outputs": [
    {
     "name": "stdout",
     "output_type": "stream",
     "text": [
      "6\n"
     ]
    }
   ],
   "source": [
    "\n",
    "# todo: Resolución\n",
    "\n",
    "# ! 3"
   ]
  },
  {
   "cell_type": "markdown",
   "metadata": {},
   "source": [
    "### 4. **Funciones**\n",
    "\n",
    "- **Actividad 1**: Escribir una función que calcule el total de una factura tras aplicarle el IVA. La función debe recibir la cantidad sin IVA y el porcentaje de IVA a aplicar, y devolver el total de la factura. Si se invoca la función sin pasarle el porcentaje de IVA, deberá aplicar un 21%.\n",
    "\n",
    "- **Actividad 2**: Escribir una función que reciba un número entero positivo y devuelva su factorial.\n"
   ]
  },
  {
   "cell_type": "code",
   "execution_count": null,
   "metadata": {},
   "outputs": [
    {
     "name": "stdout",
     "output_type": "stream",
     "text": [
      "121.0\n"
     ]
    }
   ],
   "source": [
    "\n",
    "# todo: Resolución\n",
    "def factura_con_iva(factura_sin_iva, iva=21):\n",
    "    total_iva = factura_sin_iva * (1 + iva / 100)\n",
    "    return total_iva\n",
    "print(factura_con_iva(100))\n",
    "# ! 1"
   ]
  },
  {
   "cell_type": "code",
   "execution_count": 15,
   "metadata": {},
   "outputs": [
    {
     "name": "stdout",
     "output_type": "stream",
     "text": [
      " - FACTORIAL DE UN NUMERO - \n",
      "\n",
      "El factorial de  5 es 120\n"
     ]
    }
   ],
   "source": [
    "\n",
    "# todo: Resolución\n",
    "print(\" - FACTORIAL DE UN NUMERO - \\n\")\n",
    "\n",
    "def factorial (n):\n",
    "    resultado = 1\n",
    "    for i in range( 2, n + 1):\n",
    "        resultado *= i\n",
    "    return resultado\n",
    "\n",
    "numero_fact = int(input(\"Ingrese un número entero positivo: \"))\n",
    "if numero_fact >= 0: \n",
    "    print(\"El factorial de \", numero_fact, \"es\", factorial(numero_fact))\n",
    "else:\n",
    "    print(\"Incorrecto, ingrese un número positivo.\")\n",
    "# ! 2"
   ]
  }
 ],
 "metadata": {
  "kernelspec": {
   "display_name": "Python 3",
   "language": "python",
   "name": "python3"
  },
  "language_info": {
   "codemirror_mode": {
    "name": "ipython",
    "version": 3
   },
   "file_extension": ".py",
   "mimetype": "text/x-python",
   "name": "python",
   "nbconvert_exporter": "python",
   "pygments_lexer": "ipython3",
   "version": "3.12.9"
  }
 },
 "nbformat": 4,
 "nbformat_minor": 2
}
